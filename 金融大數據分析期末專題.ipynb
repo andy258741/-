{
  "nbformat": 4,
  "nbformat_minor": 0,
  "metadata": {
    "colab": {
      "provenance": [],
      "mount_file_id": "1l-Z-8AAbX0BjzezWTsyBsv5CTAp1czP3",
      "authorship_tag": "ABX9TyN72TvY4NqCxWyvJCOIHkB0",
      "include_colab_link": true
    },
    "kernelspec": {
      "name": "python3",
      "display_name": "Python 3"
    },
    "language_info": {
      "name": "python"
    }
  },
  "cells": [
    {
      "cell_type": "markdown",
      "metadata": {
        "id": "view-in-github",
        "colab_type": "text"
      },
      "source": [
        "<a href=\"https://colab.research.google.com/github/andy258741/NCHU_Finance/blob/main/%E9%87%91%E8%9E%8D%E5%A4%A7%E6%95%B8%E6%93%9A%E5%88%86%E6%9E%90%E6%9C%9F%E6%9C%AB%E5%B0%88%E9%A1%8C.ipynb\" target=\"_parent\"><img src=\"https://colab.research.google.com/assets/colab-badge.svg\" alt=\"Open In Colab\"/></a>"
      ]
    },
    {
      "cell_type": "markdown",
      "source": [
        "# 期末專題流程\n",
        "### 1. 蒐集資料\n",
        "##### 1_1. 蒐集半導體產業個股的每日交易資訊\n",
        "##### 1_2. 蒐集半導體產業個股相關新聞\n",
        "### 2. 特徵生成\n",
        "##### 2_1. 生成個股基礎風險指數\n",
        "##### 2_2. 生成個股之回報率\n",
        "##### 2_3. 生成個股風險分數\n",
        "### 3. 投資組合選擇\n",
        "##### 3_1. 基因演算法\n",
        "### 4.實驗與結果分析"
      ],
      "metadata": {
        "id": "-S7ZAd2DSYu_"
      }
    },
    {
      "cell_type": "markdown",
      "source": [
        "### 1. 蒐集資料\n",
        "##### 爬取半導體業個股之資料"
      ],
      "metadata": {
        "id": "mS0523ojTuHO"
      }
    },
    {
      "cell_type": "code",
      "source": [
        "# 安裝所需套件\n",
        "!apt-get update\n",
        "!apt install chromium-chromedriver\n",
        "!cp /usr/lib/chromium-browser/chromedriver /usr/bin\n",
        "!pip install selenium\n",
        "!pip install OpenAI"
      ],
      "metadata": {
        "colab": {
          "base_uri": "https://localhost:8080/"
        },
        "id": "J3KoX7oHAQau",
        "outputId": "8e68db39-9c60-4f1b-a9c0-2e32ee0635a9"
      },
      "execution_count": null,
      "outputs": [
        {
          "output_type": "stream",
          "name": "stdout",
          "text": [
            "Get:1 https://cloud.r-project.org/bin/linux/ubuntu jammy-cran40/ InRelease [3,626 B]\n",
            "Hit:2 http://archive.ubuntu.com/ubuntu jammy InRelease\n",
            "Get:3 http://security.ubuntu.com/ubuntu jammy-security InRelease [129 kB]\n",
            "Get:4 https://r2u.stat.illinois.edu/ubuntu jammy InRelease [6,555 B]\n",
            "Get:5 https://developer.download.nvidia.com/compute/cuda/repos/ubuntu2204/x86_64  InRelease [1,581 B]\n",
            "Get:6 http://archive.ubuntu.com/ubuntu jammy-updates InRelease [128 kB]\n",
            "Hit:7 https://ppa.launchpadcontent.net/deadsnakes/ppa/ubuntu jammy InRelease\n",
            "Hit:8 https://ppa.launchpadcontent.net/graphics-drivers/ppa/ubuntu jammy InRelease\n",
            "Hit:9 https://ppa.launchpadcontent.net/ubuntugis/ppa/ubuntu jammy InRelease\n",
            "Get:10 http://archive.ubuntu.com/ubuntu jammy-backports InRelease [127 kB]\n",
            "Get:11 https://r2u.stat.illinois.edu/ubuntu jammy/main amd64 Packages [2,632 kB]\n",
            "Get:12 https://developer.download.nvidia.com/compute/cuda/repos/ubuntu2204/x86_64  Packages [1,197 kB]\n",
            "Fetched 4,225 kB in 4s (1,136 kB/s)\n",
            "Reading package lists... Done\n",
            "W: Skipping acquire of configured file 'main/source/Sources' as repository 'https://r2u.stat.illinois.edu/ubuntu jammy InRelease' does not seem to provide it (sources.list entry misspelt?)\n",
            "Reading package lists... Done\n",
            "Building dependency tree... Done\n",
            "Reading state information... Done\n",
            "The following additional packages will be installed:\n",
            "  apparmor chromium-browser libfuse3-3 liblzo2-2 libudev1 snapd squashfs-tools systemd-hwe-hwdb\n",
            "  udev\n",
            "Suggested packages:\n",
            "  apparmor-profiles-extra apparmor-utils fuse3 zenity | kdialog\n",
            "The following NEW packages will be installed:\n",
            "  apparmor chromium-browser chromium-chromedriver libfuse3-3 liblzo2-2 snapd squashfs-tools\n",
            "  systemd-hwe-hwdb udev\n",
            "The following packages will be upgraded:\n",
            "  libudev1\n",
            "1 upgraded, 9 newly installed, 0 to remove and 53 not upgraded.\n",
            "Need to get 30.2 MB of archives.\n",
            "After this operation, 123 MB of additional disk space will be used.\n",
            "Get:1 http://archive.ubuntu.com/ubuntu jammy-updates/main amd64 apparmor amd64 3.0.4-2ubuntu2.4 [598 kB]\n",
            "Get:2 http://archive.ubuntu.com/ubuntu jammy/main amd64 liblzo2-2 amd64 2.10-2build3 [53.7 kB]\n",
            "Get:3 http://archive.ubuntu.com/ubuntu jammy/main amd64 squashfs-tools amd64 1:4.5-3build1 [159 kB]\n",
            "Get:4 http://archive.ubuntu.com/ubuntu jammy-updates/main amd64 libudev1 amd64 249.11-0ubuntu3.12 [78.2 kB]\n",
            "Get:5 http://archive.ubuntu.com/ubuntu jammy-updates/main amd64 udev amd64 249.11-0ubuntu3.12 [1,557 kB]\n",
            "Get:6 http://archive.ubuntu.com/ubuntu jammy/main amd64 libfuse3-3 amd64 3.10.5-1build1 [81.2 kB]\n",
            "Get:7 http://archive.ubuntu.com/ubuntu jammy-updates/main amd64 snapd amd64 2.66.1+22.04 [27.6 MB]\n",
            "Get:8 http://archive.ubuntu.com/ubuntu jammy-updates/universe amd64 chromium-browser amd64 1:85.0.4183.83-0ubuntu2.22.04.1 [49.2 kB]\n",
            "Get:9 http://archive.ubuntu.com/ubuntu jammy-updates/universe amd64 chromium-chromedriver amd64 1:85.0.4183.83-0ubuntu2.22.04.1 [2,308 B]\n",
            "Get:10 http://archive.ubuntu.com/ubuntu jammy-updates/main amd64 systemd-hwe-hwdb all 249.11.5 [3,228 B]\n",
            "Fetched 30.2 MB in 2s (17.7 MB/s)\n",
            "Preconfiguring packages ...\n",
            "Selecting previously unselected package apparmor.\n",
            "(Reading database ... 123634 files and directories currently installed.)\n",
            "Preparing to unpack .../apparmor_3.0.4-2ubuntu2.4_amd64.deb ...\n",
            "Unpacking apparmor (3.0.4-2ubuntu2.4) ...\n",
            "Selecting previously unselected package liblzo2-2:amd64.\n",
            "Preparing to unpack .../liblzo2-2_2.10-2build3_amd64.deb ...\n",
            "Unpacking liblzo2-2:amd64 (2.10-2build3) ...\n",
            "Selecting previously unselected package squashfs-tools.\n",
            "Preparing to unpack .../squashfs-tools_1%3a4.5-3build1_amd64.deb ...\n",
            "Unpacking squashfs-tools (1:4.5-3build1) ...\n",
            "Preparing to unpack .../libudev1_249.11-0ubuntu3.12_amd64.deb ...\n",
            "Unpacking libudev1:amd64 (249.11-0ubuntu3.12) over (249.11-0ubuntu3.10) ...\n",
            "Setting up libudev1:amd64 (249.11-0ubuntu3.12) ...\n",
            "Selecting previously unselected package udev.\n",
            "(Reading database ... 123842 files and directories currently installed.)\n",
            "Preparing to unpack .../udev_249.11-0ubuntu3.12_amd64.deb ...\n",
            "Unpacking udev (249.11-0ubuntu3.12) ...\n",
            "Selecting previously unselected package libfuse3-3:amd64.\n",
            "Preparing to unpack .../libfuse3-3_3.10.5-1build1_amd64.deb ...\n",
            "Unpacking libfuse3-3:amd64 (3.10.5-1build1) ...\n",
            "Selecting previously unselected package snapd.\n",
            "Preparing to unpack .../snapd_2.66.1+22.04_amd64.deb ...\n",
            "Unpacking snapd (2.66.1+22.04) ...\n",
            "Setting up apparmor (3.0.4-2ubuntu2.4) ...\n",
            "Created symlink /etc/systemd/system/sysinit.target.wants/apparmor.service → /lib/systemd/system/apparmor.service.\n",
            "Setting up liblzo2-2:amd64 (2.10-2build3) ...\n",
            "Setting up squashfs-tools (1:4.5-3build1) ...\n",
            "Setting up udev (249.11-0ubuntu3.12) ...\n",
            "invoke-rc.d: could not determine current runlevel\n",
            "invoke-rc.d: policy-rc.d denied execution of start.\n",
            "Setting up libfuse3-3:amd64 (3.10.5-1build1) ...\n",
            "Setting up snapd (2.66.1+22.04) ...\n",
            "Created symlink /etc/systemd/system/multi-user.target.wants/snapd.apparmor.service → /lib/systemd/system/snapd.apparmor.service.\n",
            "Created symlink /etc/systemd/system/multi-user.target.wants/snapd.autoimport.service → /lib/systemd/system/snapd.autoimport.service.\n",
            "Created symlink /etc/systemd/system/multi-user.target.wants/snapd.core-fixup.service → /lib/systemd/system/snapd.core-fixup.service.\n",
            "Created symlink /etc/systemd/system/multi-user.target.wants/snapd.recovery-chooser-trigger.service → /lib/systemd/system/snapd.recovery-chooser-trigger.service.\n",
            "Created symlink /etc/systemd/system/multi-user.target.wants/snapd.seeded.service → /lib/systemd/system/snapd.seeded.service.\n",
            "Created symlink /etc/systemd/system/cloud-final.service.wants/snapd.seeded.service → /lib/systemd/system/snapd.seeded.service.\n",
            "Unit /lib/systemd/system/snapd.seeded.service is added as a dependency to a non-existent unit cloud-final.service.\n",
            "Created symlink /etc/systemd/system/multi-user.target.wants/snapd.service → /lib/systemd/system/snapd.service.\n",
            "Created symlink /etc/systemd/system/timers.target.wants/snapd.snap-repair.timer → /lib/systemd/system/snapd.snap-repair.timer.\n",
            "Created symlink /etc/systemd/system/sockets.target.wants/snapd.socket → /lib/systemd/system/snapd.socket.\n",
            "Created symlink /etc/systemd/system/final.target.wants/snapd.system-shutdown.service → /lib/systemd/system/snapd.system-shutdown.service.\n",
            "Selecting previously unselected package chromium-browser.\n",
            "(Reading database ... 124071 files and directories currently installed.)\n",
            "Preparing to unpack .../chromium-browser_1%3a85.0.4183.83-0ubuntu2.22.04.1_amd64.deb ...\n",
            "=> Installing the chromium snap\n",
            "==> Checking connectivity with the snap store\n",
            "===> System doesn't have a working snapd, skipping\n",
            "Unpacking chromium-browser (1:85.0.4183.83-0ubuntu2.22.04.1) ...\n",
            "Selecting previously unselected package chromium-chromedriver.\n",
            "Preparing to unpack .../chromium-chromedriver_1%3a85.0.4183.83-0ubuntu2.22.04.1_amd64.deb ...\n",
            "Unpacking chromium-chromedriver (1:85.0.4183.83-0ubuntu2.22.04.1) ...\n",
            "Selecting previously unselected package systemd-hwe-hwdb.\n",
            "Preparing to unpack .../systemd-hwe-hwdb_249.11.5_all.deb ...\n",
            "Unpacking systemd-hwe-hwdb (249.11.5) ...\n",
            "Setting up systemd-hwe-hwdb (249.11.5) ...\n",
            "Setting up chromium-browser (1:85.0.4183.83-0ubuntu2.22.04.1) ...\n",
            "update-alternatives: using /usr/bin/chromium-browser to provide /usr/bin/x-www-browser (x-www-browser) in auto mode\n",
            "update-alternatives: using /usr/bin/chromium-browser to provide /usr/bin/gnome-www-browser (gnome-www-browser) in auto mode\n",
            "Setting up chromium-chromedriver (1:85.0.4183.83-0ubuntu2.22.04.1) ...\n",
            "Processing triggers for udev (249.11-0ubuntu3.12) ...\n",
            "Processing triggers for hicolor-icon-theme (0.17-2) ...\n",
            "Processing triggers for libc-bin (2.35-0ubuntu3.4) ...\n",
            "/sbin/ldconfig.real: /usr/local/lib/libtbbbind_2_0.so.3 is not a symbolic link\n",
            "\n",
            "/sbin/ldconfig.real: /usr/local/lib/libtcm.so.1 is not a symbolic link\n",
            "\n",
            "/sbin/ldconfig.real: /usr/local/lib/libtbbbind_2_5.so.3 is not a symbolic link\n",
            "\n",
            "/sbin/ldconfig.real: /usr/local/lib/libtbbmalloc.so.2 is not a symbolic link\n",
            "\n",
            "/sbin/ldconfig.real: /usr/local/lib/libhwloc.so.15 is not a symbolic link\n",
            "\n",
            "/sbin/ldconfig.real: /usr/local/lib/libur_adapter_opencl.so.0 is not a symbolic link\n",
            "\n",
            "/sbin/ldconfig.real: /usr/local/lib/libur_adapter_level_zero.so.0 is not a symbolic link\n",
            "\n",
            "/sbin/ldconfig.real: /usr/local/lib/libtcm_debug.so.1 is not a symbolic link\n",
            "\n",
            "/sbin/ldconfig.real: /usr/local/lib/libtbbmalloc_proxy.so.2 is not a symbolic link\n",
            "\n",
            "/sbin/ldconfig.real: /usr/local/lib/libtbbbind.so.3 is not a symbolic link\n",
            "\n",
            "/sbin/ldconfig.real: /usr/local/lib/libtbb.so.12 is not a symbolic link\n",
            "\n",
            "/sbin/ldconfig.real: /usr/local/lib/libur_loader.so.0 is not a symbolic link\n",
            "\n",
            "/sbin/ldconfig.real: /usr/local/lib/libumf.so.0 is not a symbolic link\n",
            "\n",
            "Processing triggers for man-db (2.10.2-1) ...\n",
            "Processing triggers for dbus (1.12.20-2ubuntu4.1) ...\n",
            "cp: '/usr/lib/chromium-browser/chromedriver' and '/usr/bin/chromedriver' are the same file\n",
            "Collecting selenium\n",
            "  Downloading selenium-4.27.1-py3-none-any.whl.metadata (7.1 kB)\n",
            "Requirement already satisfied: urllib3<3,>=1.26 in /usr/local/lib/python3.10/dist-packages (from urllib3[socks]<3,>=1.26->selenium) (2.2.3)\n",
            "Collecting trio~=0.17 (from selenium)\n",
            "  Downloading trio-0.28.0-py3-none-any.whl.metadata (8.5 kB)\n",
            "Collecting trio-websocket~=0.9 (from selenium)\n",
            "  Downloading trio_websocket-0.11.1-py3-none-any.whl.metadata (4.7 kB)\n",
            "Requirement already satisfied: certifi>=2021.10.8 in /usr/local/lib/python3.10/dist-packages (from selenium) (2024.12.14)\n",
            "Requirement already satisfied: typing_extensions~=4.9 in /usr/local/lib/python3.10/dist-packages (from selenium) (4.12.2)\n",
            "Requirement already satisfied: websocket-client~=1.8 in /usr/local/lib/python3.10/dist-packages (from selenium) (1.8.0)\n",
            "Requirement already satisfied: attrs>=23.2.0 in /usr/local/lib/python3.10/dist-packages (from trio~=0.17->selenium) (24.3.0)\n",
            "Collecting sortedcontainers (from trio~=0.17->selenium)\n",
            "  Downloading sortedcontainers-2.4.0-py2.py3-none-any.whl.metadata (10 kB)\n",
            "Requirement already satisfied: idna in /usr/local/lib/python3.10/dist-packages (from trio~=0.17->selenium) (3.10)\n",
            "Collecting outcome (from trio~=0.17->selenium)\n",
            "  Downloading outcome-1.3.0.post0-py2.py3-none-any.whl.metadata (2.6 kB)\n",
            "Requirement already satisfied: sniffio>=1.3.0 in /usr/local/lib/python3.10/dist-packages (from trio~=0.17->selenium) (1.3.1)\n",
            "Requirement already satisfied: exceptiongroup in /usr/local/lib/python3.10/dist-packages (from trio~=0.17->selenium) (1.2.2)\n",
            "Collecting wsproto>=0.14 (from trio-websocket~=0.9->selenium)\n",
            "  Downloading wsproto-1.2.0-py3-none-any.whl.metadata (5.6 kB)\n",
            "Requirement already satisfied: pysocks!=1.5.7,<2.0,>=1.5.6 in /usr/local/lib/python3.10/dist-packages (from urllib3[socks]<3,>=1.26->selenium) (1.7.1)\n",
            "Requirement already satisfied: h11<1,>=0.9.0 in /usr/local/lib/python3.10/dist-packages (from wsproto>=0.14->trio-websocket~=0.9->selenium) (0.14.0)\n",
            "Downloading selenium-4.27.1-py3-none-any.whl (9.7 MB)\n",
            "\u001b[2K   \u001b[90m━━━━━━━━━━━━━━━━━━━━━━━━━━━━━━━━━━━━━━━━\u001b[0m \u001b[32m9.7/9.7 MB\u001b[0m \u001b[31m58.1 MB/s\u001b[0m eta \u001b[36m0:00:00\u001b[0m\n",
            "\u001b[?25hDownloading trio-0.28.0-py3-none-any.whl (486 kB)\n",
            "\u001b[2K   \u001b[90m━━━━━━━━━━━━━━━━━━━━━━━━━━━━━━━━━━━━━━━━\u001b[0m \u001b[32m486.3/486.3 kB\u001b[0m \u001b[31m27.6 MB/s\u001b[0m eta \u001b[36m0:00:00\u001b[0m\n",
            "\u001b[?25hDownloading trio_websocket-0.11.1-py3-none-any.whl (17 kB)\n",
            "Downloading wsproto-1.2.0-py3-none-any.whl (24 kB)\n",
            "Downloading outcome-1.3.0.post0-py2.py3-none-any.whl (10 kB)\n",
            "Downloading sortedcontainers-2.4.0-py2.py3-none-any.whl (29 kB)\n",
            "Installing collected packages: sortedcontainers, wsproto, outcome, trio, trio-websocket, selenium\n",
            "Successfully installed outcome-1.3.0.post0 selenium-4.27.1 sortedcontainers-2.4.0 trio-0.28.0 trio-websocket-0.11.1 wsproto-1.2.0\n"
          ]
        }
      ]
    },
    {
      "cell_type": "code",
      "source": [
        "# 透過yahoo奇摩股市爬蟲得知半導體產業的所有上市公司代碼\n",
        "from selenium import webdriver\n",
        "from selenium.webdriver.chrome.options import Options\n",
        "from selenium.webdriver.common.by import By\n",
        "from bs4 import BeautifulSoup\n",
        "import time\n",
        "\n",
        "def get_all_stocks(url):\n",
        "    chrome_options = Options()\n",
        "    chrome_options.add_argument('--headless')\n",
        "    chrome_options.add_argument('--no-sandbox')\n",
        "    chrome_options.add_argument('--disable-dev-shm-usage')\n",
        "\n",
        "    driver = webdriver.Chrome(options=chrome_options)\n",
        "    driver.get(url)\n",
        "\n",
        "    last_height = driver.execute_script(\"return document.body.scrollHeight\")\n",
        "    while True:\n",
        "        driver.execute_script(\"window.scrollTo(0, document.body.scrollHeight);\") # 模擬下拉，否則只會讀取到30家公司的代號\n",
        "        time.sleep(1.5)\n",
        "\n",
        "        new_height = driver.execute_script(\"return document.body.scrollHeight\")\n",
        "        if new_height == last_height:\n",
        "            break\n",
        "        last_height = new_height\n",
        "\n",
        "    soup = BeautifulSoup(driver.page_source, 'html.parser')\n",
        "    stocks = []\n",
        "    find_div = soup.find_all('li', {'class': 'List(n)'})\n",
        "    for i in find_div:\n",
        "        num = i.find('div', {'class': 'D(f) Ai(c)'})\n",
        "        if num and num.text:\n",
        "            stocks.append(num.text.split(\".\")[0])\n",
        "\n",
        "    driver.quit()\n",
        "    return stocks\n",
        "\n",
        "url = \"https://tw.stock.yahoo.com/class-quote?sectorId=40&exchange=TAI\" # 上市\n",
        "\n",
        "stocks_listed = get_all_stocks(url)\n",
        "print(\"上市公司數量:\", len(stocks_listed), \"上市:\", stocks_listed)"
      ],
      "metadata": {
        "colab": {
          "base_uri": "https://localhost:8080/"
        },
        "id": "Otgavqf3_6PH",
        "outputId": "8c528fb3-a255-49ea-8add-077495199778"
      },
      "execution_count": null,
      "outputs": [
        {
          "output_type": "stream",
          "name": "stdout",
          "text": [
            "上市公司數量: 84 上市: ['2302', '2303', '2329', '2330', '2337', '2338', '2340', '2342', '2344', '2351', '2363', '2369', '2379', '2388', '2401', '2408', '2434', '2436', '2441', '2449', '2451', '2454', '2458', '2481', '3006', '3014', '3016', '3034', '3035', '3041', '3094', '3189', '3257', '3413', '3443', '3450', '3530', '3532', '3545', '3583', '3588', '3592', '3661', '3686', '3711', '4919', '4952', '4961', '4967', '4968', '5222', '5269', '5285', '5471', '6202', '6239', '6243', '6257', '6271', '6415', '6451', '6515', '6525', '6526', '6531', '6533', '6552', '6573', '6695', '6719', '6756', '6770', '6789', '6799', '6937', '6962', '8016', '8028', '8081', '8110', '8131', '8150', '8261', '8271']\n"
          ]
        }
      ]
    },
    {
      "cell_type": "code",
      "source": [
        "# 建立一個字典，以儲存所有資訊\n",
        "stock_dic = {i: {\"類別\":\"上市\"} for i in stocks_listed}"
      ],
      "metadata": {
        "id": "fneHLqOPU0EH"
      },
      "execution_count": null,
      "outputs": []
    },
    {
      "cell_type": "code",
      "source": [
        "# 1_1.使用台灣證交所的api得到個股的交易資訊\n",
        "import pandas as pd\n",
        "import requests\n",
        "from datetime import datetime\n",
        "\n",
        "# 將民國年轉換為西元年\n",
        "def convert_date(date_str):\n",
        "    year, month, day = date_str.split('/')\n",
        "    year = str(int(year) + 1911)  # 民國年轉西元年\n",
        "    return f\"{year}/{month}/{day}\"\n",
        "\n",
        "def fetch_monthly_data(stock_no, year, month):\n",
        "    # 定義日期，使用每月的第一天作為請求參數\n",
        "    date_str = f\"{year}{month:02d}01\"\n",
        "    url = f\"https://www.twse.com.tw/exchangeReport/STOCK_DAY?response=json&date={date_str}&stockNo={stock_no}\"\n",
        "\n",
        "    # 發送 API 請求\n",
        "    response = requests.get(url)\n",
        "\n",
        "    # 如果請求成功，返回JSON數據\n",
        "    if response.status_code == 200:\n",
        "        return response.json()\n",
        "    else:\n",
        "        return None\n",
        "\n",
        "def fetch_yearly_data(stock_no, year):\n",
        "    all_data = []\n",
        "\n",
        "    for month in range(1, 13):  # 從1月到12月\n",
        "        data = fetch_monthly_data(stock_no, year, month)\n",
        "        if data and data['stat'] == 'OK':\n",
        "            # 將每個月的數據添加到列表中\n",
        "            all_data.extend(data['data'])\n",
        "\n",
        "    # 將數據轉換為DataFrame，並指定欄位名稱\n",
        "    df = pd.DataFrame(all_data, columns=[\"日期\", \"成交股數\", \"成交金額\", \"開盤價\", \"最高價\", \"最低價\", \"收盤價\", \"漲跌價差\", \"成交筆數\"])\n",
        "\n",
        "    # 全部換成float以利後續計算\n",
        "    # 使用 applymap 將 replace 和 astype 應用於每個單元格\n",
        "    for col in [\"成交股數\", \"成交金額\", \"開盤價\", \"最高價\", \"最低價\", \"收盤價\", \"成交筆數\"]:\n",
        "      try:\n",
        "        df[col] = df[col].astype(str).str.replace(\",\", \"\").astype(float)\n",
        "      except:\n",
        "        pass\n",
        "\n",
        "    # 將日期從民國年轉換為西元年格式\n",
        "    df['日期'] = df['日期'].apply(convert_date)\n",
        "\n",
        "    # 將日期欄位轉換為datetime格式，並重新排序數據\n",
        "    df['日期'] = pd.to_datetime(df['日期'], format='%Y/%m/%d')\n",
        "    df = df.sort_values(by='日期').reset_index(drop=True)\n",
        "\n",
        "    return df\n",
        "\n",
        "# 上市公司的公司代碼，拿取近一年(2024)的所有交易資料\n",
        "for i in stock_dic:\n",
        "  stock_no = i\n",
        "  year = 2024\n",
        "  print('現在進行到：',i)\n",
        "  all_years_data = []\n",
        "  df = fetch_yearly_data(stock_no, year)\n",
        "  time.sleep(1) # 防止被認為是攻擊\n",
        "  stock_dic[i][\"歷史交易資料\"] = df # 儲存個股交易資料\n"
      ],
      "metadata": {
        "id": "lkBVr0VhTppD",
        "colab": {
          "base_uri": "https://localhost:8080/"
        },
        "outputId": "ea6d239c-bb7f-4a47-c21d-86a7e0346bdb"
      },
      "execution_count": null,
      "outputs": [
        {
          "output_type": "stream",
          "name": "stdout",
          "text": [
            "現在進行到： 2302\n",
            "現在進行到： 2303\n",
            "現在進行到： 2329\n",
            "現在進行到： 2330\n",
            "現在進行到： 2337\n",
            "現在進行到： 2338\n",
            "現在進行到： 2340\n",
            "現在進行到： 2342\n",
            "現在進行到： 2344\n",
            "現在進行到： 2351\n",
            "現在進行到： 2363\n",
            "現在進行到： 2369\n",
            "現在進行到： 2379\n",
            "現在進行到： 2388\n",
            "現在進行到： 2401\n",
            "現在進行到： 2408\n",
            "現在進行到： 2434\n",
            "現在進行到： 2436\n",
            "現在進行到： 2441\n",
            "現在進行到： 2449\n",
            "現在進行到： 2451\n",
            "現在進行到： 2454\n",
            "現在進行到： 2458\n",
            "現在進行到： 2481\n",
            "現在進行到： 3006\n",
            "現在進行到： 3014\n",
            "現在進行到： 3016\n",
            "現在進行到： 3034\n",
            "現在進行到： 3035\n",
            "現在進行到： 3041\n",
            "現在進行到： 3094\n",
            "現在進行到： 3189\n",
            "現在進行到： 3257\n",
            "現在進行到： 3413\n",
            "現在進行到： 3443\n",
            "現在進行到： 3450\n",
            "現在進行到： 3530\n",
            "現在進行到： 3532\n",
            "現在進行到： 3545\n",
            "現在進行到： 3583\n",
            "現在進行到： 3588\n",
            "現在進行到： 3592\n",
            "現在進行到： 3661\n",
            "現在進行到： 3686\n",
            "現在進行到： 3711\n",
            "現在進行到： 4919\n",
            "現在進行到： 4952\n",
            "現在進行到： 4961\n",
            "現在進行到： 4967\n",
            "現在進行到： 4968\n",
            "現在進行到： 5222\n",
            "現在進行到： 5269\n",
            "現在進行到： 5285\n",
            "現在進行到： 5471\n",
            "現在進行到： 6202\n",
            "現在進行到： 6239\n",
            "現在進行到： 6243\n",
            "現在進行到： 6257\n",
            "現在進行到： 6271\n",
            "現在進行到： 6415\n",
            "現在進行到： 6451\n",
            "現在進行到： 6515\n",
            "現在進行到： 6525\n",
            "現在進行到： 6526\n",
            "現在進行到： 6531\n",
            "現在進行到： 6533\n",
            "現在進行到： 6552\n",
            "現在進行到： 6573\n",
            "現在進行到： 6695\n",
            "現在進行到： 6719\n",
            "現在進行到： 6756\n",
            "現在進行到： 6770\n",
            "現在進行到： 6789\n",
            "現在進行到： 6799\n",
            "現在進行到： 6937\n",
            "現在進行到： 6962\n",
            "現在進行到： 8016\n",
            "現在進行到： 8028\n",
            "現在進行到： 8081\n",
            "現在進行到： 8110\n",
            "現在進行到： 8131\n",
            "現在進行到： 8150\n",
            "現在進行到： 8261\n",
            "現在進行到： 8271\n"
          ]
        }
      ]
    },
    {
      "cell_type": "code",
      "source": [
        "# 把stock_dic先存起來\n",
        "import pickle\n",
        "\n",
        "import pandas as pd\n",
        "\n",
        "with open(\"drive/MyDrive/金融大數據分析/stock_dic.pkl\", \"wb\") as file:\n",
        "    pickle.dump(stock_dic, file)\n"
      ],
      "metadata": {
        "id": "626ont2liDRc"
      },
      "execution_count": null,
      "outputs": []
    },
    {
      "cell_type": "code",
      "source": [
        "# 讀入stock_dic\n",
        "import pickle\n",
        "\n",
        "with open(\"drive/MyDrive/金融大數據分析/stock_dic.pkl\", \"rb\") as file:\n",
        "    stock_dic = pickle.load(file)\n",
        "print(stock_dic[\"2302\"])"
      ],
      "metadata": {
        "colab": {
          "base_uri": "https://localhost:8080/"
        },
        "id": "SXHggyXBPNQ_",
        "outputId": "0108631d-3f5f-4b1f-a910-c8969cedb256"
      },
      "execution_count": null,
      "outputs": [
        {
          "output_type": "stream",
          "name": "stdout",
          "text": [
            "{'類別': '上市', '歷史交易資料':             日期       成交股數        成交金額    開盤價    最高價    最低價    收盤價   漲跌價差  \\\n",
            "0   2024-01-02   109204.0   2010256.0  18.60  18.60  18.35  18.40  -0.05   \n",
            "1   2024-01-03   178457.0   3263353.0  18.40  18.45  18.20  18.35  -0.05   \n",
            "2   2024-01-04   349663.0   6323774.0  18.30  18.35  17.90  18.00  -0.35   \n",
            "3   2024-01-05   265768.0   4766222.0  18.15  18.20  17.75  17.95  -0.05   \n",
            "4   2024-01-08   301628.0   5428123.0  18.15  18.35  17.80  17.85  -0.10   \n",
            "..         ...        ...         ...    ...    ...    ...    ...    ...   \n",
            "237 2024-12-25   937310.0  17499515.0  18.35  19.00  18.20  18.80  +0.70   \n",
            "238 2024-12-26  3293777.0  65220910.0  19.00  20.30  18.80  19.90  +1.10   \n",
            "239 2024-12-27  1152030.0  22420947.0  19.90  20.05  19.00  19.35  -0.55   \n",
            "240 2024-12-30   522558.0   9934132.0  19.35  19.35  18.75  18.75  -0.60   \n",
            "241 2024-12-31   283959.0   5270163.0  18.85  18.85  18.30  18.70  -0.05   \n",
            "\n",
            "       成交筆數  \n",
            "0      52.0  \n",
            "1     120.0  \n",
            "2     199.0  \n",
            "3     196.0  \n",
            "4     186.0  \n",
            "..      ...  \n",
            "237   434.0  \n",
            "238  1733.0  \n",
            "239   903.0  \n",
            "240   453.0  \n",
            "241   224.0  \n",
            "\n",
            "[242 rows x 9 columns]}\n"
          ]
        }
      ]
    },
    {
      "cell_type": "code",
      "source": [
        "# 1_2.使用鉅亨網進行個股的新聞爬蟲(只爬取近期最新的新聞)\n",
        "import pandas as pd\n",
        "from selenium import webdriver\n",
        "from selenium.webdriver.common.by import By\n",
        "from selenium.webdriver.common.action_chains import ActionChains\n",
        "import time\n",
        "from datetime import datetime, timedelta\n",
        "from selenium.webdriver.chrome.options import Options\n",
        "from selenium.webdriver.common.by import By\n",
        "from bs4 import BeautifulSoup\n",
        "\n",
        "def get_stocknews_url(url):\n",
        "    chrome_options = Options()\n",
        "    chrome_options.add_argument('--headless')\n",
        "    chrome_options.add_argument('--no-sandbox')\n",
        "    chrome_options.add_argument('--disable-dev-shm-usage')\n",
        "    news_ls = []\n",
        "    url_ls = []\n",
        "\n",
        "    driver = webdriver.Chrome(options=chrome_options)\n",
        "    driver.get(url)\n",
        "\n",
        "    # 當前日期\n",
        "    current_date = datetime.now()\n",
        "    # 一週之前的日期\n",
        "    one_week_ago = current_date - timedelta(days=7)\n",
        "\n",
        "    # 模擬下拉到目標區域\n",
        "    time.sleep(2)  # 等待頁面載入\n",
        "    news_section = driver.find_element(By.CLASS_NAME, 'jsx-3426971566.tabs-container')  # 定位目標區域\n",
        "    ActionChains(driver).move_to_element(news_section).perform()  # 移動到該元素\n",
        "    time.sleep(2)  # 確保動態內容已加載\n",
        "\n",
        "    # 抓取目標 `<a>` 標籤\n",
        "    soup = BeautifulSoup(driver.page_source, 'html.parser')\n",
        "    articles = soup.find_all('a', class_='jsx-2831776980 container border')\n",
        "    for article in articles:\n",
        "        # 取得連結（href）\n",
        "        link = article.get('href')\n",
        "        # 取得標題文字\n",
        "        title = article.find('h3').text.strip()\n",
        "        # 取得時間與類別\n",
        "        time_container = article.find('div', class_='time-container')\n",
        "        news_time = time_container.find('span', class_='jsx-2831776980').text.strip()\n",
        "\n",
        "        news_date = datetime.strptime(news_time, \"%m/%d\")  # 假設日期格式為 MM/DD\n",
        "        # 因為只有月日，需補上當年的年份以便計算\n",
        "        news_date = news_date.replace(year=current_date.year)\n",
        "\n",
        "        # 篩選是否在最近 7 天內\n",
        "        if one_week_ago <= news_date <= current_date:\n",
        "            news_ls.append([title, news_date])  # 加入符合條件的新聞\n",
        "            url_ls.append(link)\n",
        "    return news_ls, url_ls\n",
        "\n",
        "def get_newscontent(url_ls):\n",
        "    content_ls = []\n",
        "    if url_ls == []:\n",
        "      return content_ls\n",
        "    for url in url_ls:\n",
        "      chrome_options = Options()\n",
        "      chrome_options.add_argument('--headless')\n",
        "      chrome_options.add_argument('--no-sandbox')\n",
        "      chrome_options.add_argument('--disable-dev-shm-usage')\n",
        "      driver = webdriver.Chrome(options=chrome_options)\n",
        "      driver.get(url)\n",
        "\n",
        "      # 模擬下拉到目標區域\n",
        "      time.sleep(2)  # 等待頁面載入\n",
        "      news_section = driver.find_element(By.CSS_SELECTOR, \"main#article-container.c1tt5pk2\")  # 定位目標區域\n",
        "      ActionChains(driver).move_to_element(news_section).perform()  # 移動到該元素\n",
        "      time.sleep(2)  # 確保動態內容已加載\n",
        "\n",
        "      soup = BeautifulSoup(driver.page_source, 'html.parser')\n",
        "      find_main = soup.find('main', {'id': 'article-container'})\n",
        "      find_sec = find_main.find_all('p')\n",
        "      content = ''\n",
        "      for i in find_sec:\n",
        "        content += i.text\n",
        "      content_ls.append(content)\n",
        "    return content_ls\n",
        "\n",
        "now_ls = []\n",
        "complete = ['2302', '2303', '2329', '2330', '2337', '2338']\n",
        "for count, j in enumerate(stock_dic):\n",
        "  if j in complete:\n",
        "    continue\n",
        "  # 設定鉅亨網的URL\n",
        "  print('現在進行到:',j)\n",
        "  now_ls.append(j)\n",
        "  stock_code = j\n",
        "  news_url = f'https://www.cnyes.com/twstock/{stock_code}/news/stock'\n",
        "\n",
        "  news_ls, url_ls = get_stocknews_url(news_url)\n",
        "  contnet_ls = get_newscontent(url_ls)\n",
        "  for i in range(len(news_ls)):\n",
        "    news_ls[i].append(contnet_ls[i])\n",
        "  stock_dic[j][\"個股新聞\"] = news_ls\n",
        "\n",
        "  if count % 5 == 0:\n",
        "    # 把stock_dic先存起來\n",
        "    with open(\"drive/MyDrive/金融大數據分析/stock_dic_withnews.pkl\", \"wb\") as file:\n",
        "        pickle.dump(stock_dic, file)\n",
        "    print('已儲存:', *now_ls)\n",
        "    now_ls = []\n",
        "# 把剩餘的stock_dic存起來\n",
        "with open(\"drive/MyDrive/金融大數據分析/stock_dic_withnews.pkl\", \"wb\") as file:\n",
        "    pickle.dump(stock_dic, file)\n",
        "print('已儲存:', *now_ls)\n",
        "print(\"全部新聞已爬取完畢\")"
      ],
      "metadata": {
        "colab": {
          "base_uri": "https://localhost:8080/"
        },
        "id": "d70lyKAeBtCi",
        "outputId": "463caa12-d8f1-43bc-be7c-81f3bf799d8c"
      },
      "execution_count": null,
      "outputs": [
        {
          "output_type": "stream",
          "name": "stdout",
          "text": [
            "現在進行到: 2340\n",
            "現在進行到: 2342\n",
            "現在進行到: 2344\n",
            "現在進行到: 2351\n",
            "現在進行到: 2363\n",
            "已儲存: 2340 2342 2344 2351 2363\n",
            "現在進行到: 2369\n",
            "現在進行到: 2379\n",
            "現在進行到: 2388\n",
            "現在進行到: 2401\n",
            "現在進行到: 2408\n",
            "已儲存: 2369 2379 2388 2401 2408\n",
            "現在進行到: 2434\n",
            "現在進行到: 2436\n",
            "現在進行到: 2441\n",
            "現在進行到: 2449\n",
            "現在進行到: 2451\n",
            "已儲存: 2434 2436 2441 2449 2451\n",
            "現在進行到: 2454\n",
            "現在進行到: 2458\n",
            "現在進行到: 2481\n",
            "現在進行到: 3006\n",
            "現在進行到: 3014\n",
            "已儲存: 2454 2458 2481 3006 3014\n",
            "現在進行到: 3016\n",
            "現在進行到: 3034\n",
            "現在進行到: 3035\n",
            "現在進行到: 3041\n",
            "現在進行到: 3094\n",
            "已儲存: 3016 3034 3035 3041 3094\n",
            "現在進行到: 3189\n",
            "現在進行到: 3257\n",
            "現在進行到: 3413\n",
            "現在進行到: 3443\n",
            "現在進行到: 3450\n",
            "已儲存: 3189 3257 3413 3443 3450\n",
            "現在進行到: 3530\n",
            "現在進行到: 3532\n",
            "現在進行到: 3545\n",
            "現在進行到: 3583\n",
            "現在進行到: 3588\n",
            "已儲存: 3530 3532 3545 3583 3588\n",
            "現在進行到: 3592\n",
            "現在進行到: 3661\n",
            "現在進行到: 3686\n",
            "現在進行到: 3711\n",
            "現在進行到: 4919\n",
            "已儲存: 3592 3661 3686 3711 4919\n",
            "現在進行到: 4952\n",
            "現在進行到: 4961\n",
            "現在進行到: 4967\n",
            "現在進行到: 4968\n",
            "現在進行到: 5222\n",
            "已儲存: 4952 4961 4967 4968 5222\n",
            "現在進行到: 5269\n",
            "現在進行到: 5285\n",
            "現在進行到: 5471\n",
            "現在進行到: 6202\n",
            "現在進行到: 6239\n",
            "已儲存: 5269 5285 5471 6202 6239\n",
            "現在進行到: 6243\n",
            "現在進行到: 6257\n",
            "現在進行到: 6271\n",
            "現在進行到: 6415\n",
            "現在進行到: 6451\n",
            "已儲存: 6243 6257 6271 6415 6451\n",
            "現在進行到: 6515\n",
            "現在進行到: 6525\n",
            "現在進行到: 6526\n",
            "現在進行到: 6531\n",
            "現在進行到: 6533\n",
            "已儲存: 6515 6525 6526 6531 6533\n",
            "現在進行到: 6552\n",
            "現在進行到: 6573\n",
            "現在進行到: 6695\n",
            "現在進行到: 6719\n",
            "現在進行到: 6756\n",
            "已儲存: 6552 6573 6695 6719 6756\n",
            "現在進行到: 6770\n",
            "現在進行到: 6789\n",
            "現在進行到: 6799\n",
            "現在進行到: 6937\n",
            "現在進行到: 6962\n",
            "已儲存: 6770 6789 6799 6937 6962\n",
            "現在進行到: 8016\n",
            "現在進行到: 8028\n",
            "現在進行到: 8081\n",
            "現在進行到: 8110\n",
            "現在進行到: 8131\n",
            "已儲存: 8016 8028 8081 8110 8131\n",
            "現在進行到: 8150\n",
            "現在進行到: 8261\n",
            "現在進行到: 8271\n",
            "已儲存: 8150 8261 8271\n",
            "全部新聞已爬取完畢\n"
          ]
        }
      ]
    },
    {
      "cell_type": "markdown",
      "source": [
        "### 2. 特徵生成\n",
        "##### 使用前面得到的初級特徵進行其他特徵的生成"
      ],
      "metadata": {
        "id": "omizLNMKfLxx"
      }
    },
    {
      "cell_type": "code",
      "source": [
        "# 在計算特徵前，先把所有值得資料型態轉為float\n",
        "import pandas as pd\n",
        "\n",
        "for i in stock_dic:\n",
        "  cols = [\"日期\", \"成交股數\", \"成交金額\", \"開盤價\", \"最高價\", \"最低價\", \"收盤價\", \"漲跌價差\", \"成交筆數\"]\n",
        "  for col in cols:\n",
        "    # 找出所有唯一的資料型態\n",
        "    unique_types = stock_dic[i]['歷史交易資料'][col].apply(type).unique()\n",
        "    if unique_types == str:\n",
        "      stock_dic[i]['歷史交易資料'][col] = pd.to_numeric(stock_dic[i]['歷史交易資料'][col], errors='coerce')"
      ],
      "metadata": {
        "id": "a14BLm-0z_86"
      },
      "execution_count": null,
      "outputs": []
    },
    {
      "cell_type": "code",
      "source": [
        "# 2_1.生成個股基礎風險指數，以年化波動率和夏普比率作為風險指數\n",
        "# 2_2.計算回報率(日收益率)\n",
        "import numpy as np\n",
        "\n",
        "for i in stock_dic:\n",
        "  # 計算日收益率 (使用收盤價)\n",
        "  stock_dic[i]['日收益率'] = stock_dic[i]['歷史交易資料']['收盤價'].pct_change()\n",
        "\n",
        "  # 計算年化波動率 (日收益率的標準差乘以根號242，因一年大約242個交易日)\n",
        "  daily_volatility = stock_dic[i]['日收益率'].std()\n",
        "  annualized_volatility = daily_volatility * np.sqrt(242)\n",
        "\n",
        "  # 基礎風險指數 (年化波動率)\n",
        "  risk_index = annualized_volatility\n",
        "\n",
        "  stock_dic[i]['基礎風險指數(年化波動率)'] = risk_index\n",
        "\n",
        "  # 基礎風險指數(夏普比率)\n",
        "  risk_free_rate = 0.01  # 假設無風險利率\n",
        "  excess_returns = stock_dic[i]['日收益率'] - risk_free_rate / 242  # 每日超額回報\n",
        "  sharpe_ratio = excess_returns.mean() / excess_returns.std() * np.sqrt(242)\n",
        "  stock_dic[i]['基礎風險指數(夏普比率)'] = sharpe_ratio"
      ],
      "metadata": {
        "id": "4C5z7bn0fIVC",
        "colab": {
          "base_uri": "https://localhost:8080/"
        },
        "outputId": "dd5ea128-8cb1-4c3d-8ae1-a1ccc89e2412"
      },
      "execution_count": null,
      "outputs": [
        {
          "output_type": "stream",
          "name": "stderr",
          "text": [
            "<ipython-input-17-412d048143e6>:6: FutureWarning: The default fill_method='pad' in Series.pct_change is deprecated and will be removed in a future version. Either fill in any non-leading NA values prior to calling pct_change or specify 'fill_method=None' to not fill NA values.\n",
            "  stock_dic[i]['日收益率'] = stock_dic[i]['歷史交易資料']['收盤價'].pct_change()\n"
          ]
        }
      ]
    },
    {
      "cell_type": "code",
      "source": [
        "# 把stock_dic先存起來\n",
        "import pickle\n",
        "\n",
        "with open(\"drive/MyDrive/金融大數據分析/stock_dic.pkl\", \"wb\") as file:\n",
        "    pickle.dump(stock_dic, file)"
      ],
      "metadata": {
        "id": "eiDi97UF4Vee"
      },
      "execution_count": null,
      "outputs": []
    },
    {
      "cell_type": "code",
      "source": [
        "# 2_3.呼叫chatgpt api生成風險指數，並將temperature設為0，確保其每次結果不會相差太多\n",
        "import openai\n",
        "\n",
        "# 設定你的 API 密鑰\n",
        "openai.api_key = ''\n",
        "def call_openai_api(prompt):\n",
        "    # 呼叫 OpenAI API\n",
        "    completion = openai.ChatCompletion.create(\n",
        "        model=\"chatgpt-4o-latest\",\n",
        "        messages=[\n",
        "            {\"role\": \"system\", \"content\": prompt},\n",
        "        ],\n",
        "        temperature=0 #使其每次結果不會差太多\n",
        "    )\n",
        "prompt = '''\n",
        "你是一位金融的風險控管專家，擅長多方面的考量各種因素。\n",
        "現在我想請你做的事情是，考慮到現有的基礎風險比率(年化波動率和夏普比率)，通常只有數字上單方面的計算，而沒有考量到現實世界發生的新聞事件。\n",
        "因此，我想請你幫每個股票，以夏普比率和年化波動率為基準，並結合所抓取的新聞(這些新聞皆為三日內發生的新聞)，\n",
        "重新給出一個適當的風險指數，請回傳一個json檔，其中只需要包含各檔股票的代號和其新的風險指數即可。\n",
        "'''\n",
        "result = call_openai_api(prompt)\n",
        "for i in result:\n",
        "  # 將最終的風險指數存起來\n",
        "  stock_dic[i]['最終風險指數'] = result[i]"
      ],
      "metadata": {
        "id": "CHwp45Xn7m-f"
      },
      "execution_count": null,
      "outputs": []
    },
    {
      "cell_type": "markdown",
      "source": [
        "### 3.投資組合選擇"
      ],
      "metadata": {
        "id": "cseNp7vQ9dxL"
      }
    },
    {
      "cell_type": "code",
      "source": [
        "# 讀入stock_dic\n",
        "import pickle\n",
        "\n",
        "with open(\"drive/MyDrive/金融大數據分析/stock_dic.pkl\", \"rb\") as file:\n",
        "    stock_dic = pickle.load(file)\n"
      ],
      "metadata": {
        "id": "9jsXIQ6QgqN1"
      },
      "execution_count": null,
      "outputs": []
    },
    {
      "cell_type": "code",
      "source": [
        "# 使用基因演算法\n",
        "import numpy as np\n",
        "import pandas as pd\n",
        "from scipy.special import softmax\n",
        "\n",
        "# 假設我們有一個股票數據集\n",
        "# 這裡的數據應該包含股票的歷史價格或回報率\n",
        "data = stock_dic  # 載入股票數據\n",
        "\n",
        "# 基因演算法參數\n",
        "population_size = 5 # 每一代的染色體數量\n",
        "num_stocks = len(data)  # 股票數量\n",
        "num_generations = 100  # 總世代數\n",
        "mutation_rate = 0.01   # 突變率\n",
        "stock_code = list(data.keys()) # 股票代碼\n",
        "\n",
        "# 初始化隨機染色體（每個基因代表是否選擇該股票）\n",
        "def initialize_population(size, num_stocks):\n",
        "    return np.random.randint(2, size=(size, num_stocks))\n",
        "\n",
        "# 計算適應度函數（此例中使用年化回報率）\n",
        "def fitness_function(chromosome, x=1, risk_mode='最終風險指數'):\n",
        "    score = 0\n",
        "    for count, i in enumerate(chromosome):\n",
        "      if i == 1:\n",
        "        code = stock_code[count]\n",
        "        stock_score = data[code]['日收益率'].mean()\n",
        "        weight = data[code]['歷史交易資料']['成交股數'].mean()\n",
        "        risk = data[code][risk_mode]\n",
        "        score += (stock_score - x*risk) * weight\n",
        "    return score\n",
        "\n",
        "# 選擇操作（輪盤賭選擇）\n",
        "def selection(population, x=1, risk_mode='最終風險指數'):\n",
        "    fitness_scores = np.array([fitness_function(chromosome, x, risk_mode) for chromosome in population])\n",
        "    probabilities = fitness_scores / fitness_scores.sum()\n",
        "    probabilities = softmax(probabilities)\n",
        "    selected_indices = np.random.choice(range(population_size), size=population_size, p=probabilities)\n",
        "    return population[selected_indices]\n",
        "\n",
        "# 交叉操作\n",
        "def crossover(parent1, parent2):\n",
        "    point = np.random.randint(1, num_stocks - 1)\n",
        "    child1 = np.concatenate((parent1[:point], parent2[point:]))\n",
        "    child2 = np.concatenate((parent2[:point], parent1[point:]))\n",
        "    return child1, child2\n",
        "\n",
        "# 突變操作\n",
        "def mutate(chromosome):\n",
        "    for i in range(len(chromosome)):\n",
        "        if np.random.rand() < mutation_rate:\n",
        "            chromosome[i] = 1 - chromosome[i]  # 切換基因值\n",
        "    return chromosome\n",
        "\n",
        "# 主程序\n",
        "def genes(epochs, x, risk_mode, num_generations):\n",
        "  choice = []\n",
        "  for epoch in range(epochs):\n",
        "    population = initialize_population(population_size, num_stocks)\n",
        "\n",
        "    for generation in range(num_generations):\n",
        "        selected_population = selection(population, x)\n",
        "\n",
        "        next_generation = []\n",
        "\n",
        "        # 確保選擇偶數個父母以進行交叉\n",
        "        for i in range(0, population_size - 1, 2):\n",
        "            parent1 = selected_population[i]\n",
        "            parent2 = selected_population[i + 1]\n",
        "            child1, child2 = crossover(parent1, parent2)\n",
        "            next_generation.append(mutate(child1))\n",
        "            next_generation.append(mutate(child2))\n",
        "\n",
        "        # 如果 population_size 是奇數，則將最後一個染色體直接添加到下一代\n",
        "        if population_size % 2 == 1:\n",
        "            next_generation.append(selected_population[-1])\n",
        "\n",
        "        population = np.array(next_generation)\n",
        "\n",
        "    # 最佳解\n",
        "    best_chromosome = max(population, key=fitness_function)\n",
        "    choice.append(best_chromosome)\n",
        "  return choice"
      ],
      "metadata": {
        "id": "h2aDDWr59hlC"
      },
      "execution_count": null,
      "outputs": []
    },
    {
      "cell_type": "markdown",
      "source": [
        "### 實驗與結果分析"
      ],
      "metadata": {
        "id": "BQSOwQDf92LT"
      }
    },
    {
      "cell_type": "code",
      "source": [
        "# 先寫一個func評估各投資組合的好壞\n",
        "stock_code = list(stock_dic.keys())\n",
        "taiwan_returns = 0.287 #台股2024的市場回報率\n",
        "def evaluate(choice):\n",
        "  # 計算詹森指標\n",
        "  # 計算投資組合和市場的平均回報率\n",
        "  returns = []\n",
        "  counts = 0\n",
        "  risk_free_rate = 0.02\n",
        "  for count, i in enumerate(choice):\n",
        "    if i == 1:\n",
        "      code = stock_code[count]\n",
        "      returns.append(stock_dic[code]['日收益率'].mean())\n",
        "      counts += 1\n",
        "  market_returns = [taiwan_returns for _ in range(counts)]\n",
        "  Rp = np.mean(returns)\n",
        "  Rm = taiwan_returns\n",
        "\n",
        "  # 計算貝他係數\n",
        "  '''\n",
        "  covariance = np.cov(returns, market_returns)[0][1]\n",
        "  beta = covariance / np.var(market_returns)\n",
        "  '''\n",
        "\n",
        "  # 計算詹森指標\n",
        "  alpha = (Rp - risk_free_rate) - -(Rm - risk_free_rate)\n",
        "  return alpha"
      ],
      "metadata": {
        "id": "fRvmHjaq_NzR"
      },
      "execution_count": null,
      "outputs": []
    },
    {
      "cell_type": "code",
      "source": [
        "np.var([1,1,1,1,1])"
      ],
      "metadata": {
        "colab": {
          "base_uri": "https://localhost:8080/"
        },
        "id": "re-SDYEnB37d",
        "outputId": "a9931898-0f5a-4c1c-cfdc-b11cd6557ad6"
      },
      "execution_count": null,
      "outputs": [
        {
          "output_type": "execute_result",
          "data": {
            "text/plain": [
              "0.0"
            ]
          },
          "metadata": {},
          "execution_count": 22
        }
      ]
    },
    {
      "cell_type": "markdown",
      "source": [
        "### 實驗一\n",
        "##### 使用不同的風險指數做基因演算"
      ],
      "metadata": {
        "id": "M6x6RYAy-vg9"
      }
    },
    {
      "cell_type": "code",
      "source": [
        "epochs = 10\n",
        "x = 1\n",
        "risk_mode = ['最終風險指數','基礎風險指數(夏普比率)','基礎風險指數(年化波動率)']\n",
        "num_generations = 500\n",
        "\n",
        "for i in risk_mode:\n",
        "  choices = genes(epochs, x, i, num_generations) # 長度與epochs相同\n",
        "  s_score = 0\n",
        "  for j in choices:\n",
        "    s_score += evaluate(j)\n",
        "  print(i,\"average score:\", s_score/len(choices))\n"
      ],
      "metadata": {
        "colab": {
          "base_uri": "https://localhost:8080/"
        },
        "id": "Yog1WQjBB1ZD",
        "outputId": "180e5a8f-c601-4195-c896-2c2a166c7021"
      },
      "execution_count": null,
      "outputs": [
        {
          "output_type": "stream",
          "name": "stdout",
          "text": [
            "最終風險指數 average score: 0.12696186641267795\n",
            "基礎風險指數(夏普比率) average score: 0.08687608278570727\n",
            "基礎風險指數(年化波動率) average score: 0.0869749857706328\n",
            "\n"
          ]
        }
      ]
    },
    {
      "cell_type": "markdown",
      "source": [
        "### 實驗二\n",
        "##### 使用不同的gpt模板"
      ],
      "metadata": {
        "id": "iEgt_3rY-5OT"
      }
    },
    {
      "cell_type": "code",
      "source": [
        "# 最終模板\n",
        "prompt = '''\n",
        "你是一位金融的風險控管專家，擅長多方面的考量各種因素。現在我想請你做的事情是，考慮到現有的基礎風險比率(年化波動率和夏普比率)，通常只有數字上單方面的計算，而沒有考量到現實世界發生的新聞事件。\n",
        "因此，我想請你幫每個股票，以夏普比率和年化波動率為基準，並結合所抓取的新聞(這些新聞皆為三日內發生的新聞)，重新給出一個適當的風險指數，並且請遵循以下指示：\n",
        "1. 請先對各篇新聞最深度的語意分析，以判斷該新聞對於風險的影響，請勿直接以新聞的篇數做為風險影響的大小依據\n",
        "2. 請回傳ㄧ個json檔，其中只需要包含各檔股票的代號和其新的風險指數即可。\n",
        "'''\n",
        "result = call_openai_api(prompt)\n",
        "new_stock_dic = stock_dic\n",
        "for i in result:\n",
        "  # 將最終的風險指數存起來\n",
        "  new_stock_dic[i]['最終風險指數'] = result[i]"
      ],
      "metadata": {
        "id": "fUaYKOTN_MDi"
      },
      "execution_count": null,
      "outputs": []
    },
    {
      "cell_type": "code",
      "source": [
        "data = new_stock_dic #用新的最終風險分數\n",
        "epochs = 10\n",
        "x = 1\n",
        "risk_mode = '最終風險指數'\n",
        "num_generations = 500\n",
        "\n",
        "choices = genes(epochs, x, risk_mode, num_generations) # 長度與epochs相同\n",
        "s_score = 0\n",
        "for j in choices:\n",
        "  s_score += evaluate(j)\n",
        "print(risk_mode,\"average score:\", s_score/len(choices))\n"
      ],
      "metadata": {
        "colab": {
          "base_uri": "https://localhost:8080/"
        },
        "id": "S2W-_YOeuj9Q",
        "outputId": "3fff3b23-218e-4d81-c189-191aae8623dd"
      },
      "execution_count": null,
      "outputs": [
        {
          "output_type": "stream",
          "name": "stdout",
          "text": [
            "最終風險指數 average score: 0.14278456631811562\n"
          ]
        }
      ]
    }
  ]
}